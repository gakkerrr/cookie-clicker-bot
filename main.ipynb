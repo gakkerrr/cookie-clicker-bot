{
 "cells": [
  {
   "cell_type": "code",
   "execution_count": 21,
   "metadata": {},
   "outputs": [],
   "source": [
    "from selenium import webdriver\n",
    "from selenium.webdriver.common.keys import Keys\n",
    "from selenium.webdriver.common.by import By\n",
    "from selenium.webdriver.support.wait import WebDriverWait\n",
    "from selenium.webdriver.support import expected_conditions as EC"
   ]
  },
  {
   "cell_type": "code",
   "execution_count": 22,
   "metadata": {},
   "outputs": [],
   "source": [
    "cookie_page = \"https://orteil.dashnet.org/cookieclicker/\""
   ]
  },
  {
   "cell_type": "code",
   "execution_count": 23,
   "metadata": {},
   "outputs": [],
   "source": [
    "driver = webdriver.Chrome()\n",
    "driver.get(cookie_page)"
   ]
  },
  {
   "cell_type": "code",
   "execution_count": 24,
   "metadata": {},
   "outputs": [],
   "source": [
    "element = WebDriverWait(driver, 10).until(\n",
    "    EC.presence_of_element_located((By.XPATH, \"//*[contains(text(), 'English')]\"))\n",
    ")\n",
    "element.click()\n"
   ]
  },
  {
   "cell_type": "code",
   "execution_count": 25,
   "metadata": {},
   "outputs": [],
   "source": [
    "cookie_id = \"bigCookie\"\n",
    "WebDriverWait(driver, 10).until(\n",
    "    EC.presence_of_element_located((By.ID, cookie_id))\n",
    ")\n",
    "bigCookie = driver.find_element(By.ID, cookie_id)\n",
    "bigCookie.click()"
   ]
  },
  {
   "cell_type": "code",
   "execution_count": 26,
   "metadata": {},
   "outputs": [
    {
     "ename": "InvalidSessionIdException",
     "evalue": "Message: invalid session id: session deleted as the browser has closed the connection\nfrom disconnected: unable to send message to renderer\n  (Session info: chrome=133.0.6943.126)\nStacktrace:\n\tGetHandleVerifier [0x00007FF6FB5E6EE5+28773]\n\t(No symbol) [0x00007FF6FB5525D0]\n\t(No symbol) [0x00007FF6FB3E8FAA]\n\t(No symbol) [0x00007FF6FB3D53C1]\n\t(No symbol) [0x00007FF6FB3D532C]\n\t(No symbol) [0x00007FF6FB3D3A91]\n\t(No symbol) [0x00007FF6FB3D48E7]\n\t(No symbol) [0x00007FF6FB3F5E25]\n\t(No symbol) [0x00007FF6FB43294C]\n\t(No symbol) [0x00007FF6FB46724A]\n\t(No symbol) [0x00007FF6FB431B36]\n\t(No symbol) [0x00007FF6FB467460]\n\t(No symbol) [0x00007FF6FB48F6F3]\n\t(No symbol) [0x00007FF6FB467023]\n\t(No symbol) [0x00007FF6FB42FF5E]\n\t(No symbol) [0x00007FF6FB4311E3]\n\tGetHandleVerifier [0x00007FF6FB93422D+3490733]\n\tGetHandleVerifier [0x00007FF6FB94BA13+3586963]\n\tGetHandleVerifier [0x00007FF6FB94144D+3544525]\n\tGetHandleVerifier [0x00007FF6FB6AC9AA+838442]\n\t(No symbol) [0x00007FF6FB55D01F]\n\t(No symbol) [0x00007FF6FB5595E4]\n\t(No symbol) [0x00007FF6FB559786]\n\t(No symbol) [0x00007FF6FB548CB9]\n\tBaseThreadInitThunk [0x00007FFB969C259D+29]\n\tRtlUserThreadStart [0x00007FFB989AAF38+40]\n",
     "output_type": "error",
     "traceback": [
      "\u001b[1;31m---------------------------------------------------------------------------\u001b[0m",
      "\u001b[1;31mInvalidSessionIdException\u001b[0m                 Traceback (most recent call last)",
      "Cell \u001b[1;32mIn[26], line 2\u001b[0m\n\u001b[0;32m      1\u001b[0m \u001b[38;5;28;01mwhile\u001b[39;00m \u001b[38;5;241m1\u001b[39m:\n\u001b[1;32m----> 2\u001b[0m     \u001b[43mbigCookie\u001b[49m\u001b[38;5;241;43m.\u001b[39;49m\u001b[43mclick\u001b[49m\u001b[43m(\u001b[49m\u001b[43m)\u001b[49m\n\u001b[0;32m      3\u001b[0m     cookies_count \u001b[38;5;241m=\u001b[39m driver\u001b[38;5;241m.\u001b[39mfind_element(By\u001b[38;5;241m.\u001b[39mID, \u001b[38;5;124m\"\u001b[39m\u001b[38;5;124mcookies\u001b[39m\u001b[38;5;124m\"\u001b[39m)\u001b[38;5;241m.\u001b[39mtext\u001b[38;5;241m.\u001b[39msplit(\u001b[38;5;124m\"\u001b[39m\u001b[38;5;124m \u001b[39m\u001b[38;5;124m\"\u001b[39m)[\u001b[38;5;241m0\u001b[39m]\n\u001b[0;32m      4\u001b[0m     cookies_count \u001b[38;5;241m=\u001b[39m \u001b[38;5;28mint\u001b[39m(cookies_count\u001b[38;5;241m.\u001b[39mreplace(\u001b[38;5;124m\"\u001b[39m\u001b[38;5;124m,\u001b[39m\u001b[38;5;124m\"\u001b[39m, \u001b[38;5;124m\"\u001b[39m\u001b[38;5;124m\"\u001b[39m))\n",
      "File \u001b[1;32m~\\AppData\\Roaming\\Python\\Python313\\site-packages\\selenium\\webdriver\\remote\\webelement.py:119\u001b[0m, in \u001b[0;36mWebElement.click\u001b[1;34m(self)\u001b[0m\n\u001b[0;32m    111\u001b[0m \u001b[38;5;28;01mdef\u001b[39;00m\u001b[38;5;250m \u001b[39m\u001b[38;5;21mclick\u001b[39m(\u001b[38;5;28mself\u001b[39m) \u001b[38;5;241m-\u001b[39m\u001b[38;5;241m>\u001b[39m \u001b[38;5;28;01mNone\u001b[39;00m:\n\u001b[0;32m    112\u001b[0m \u001b[38;5;250m    \u001b[39m\u001b[38;5;124;03m\"\"\"Clicks the element.\u001b[39;00m\n\u001b[0;32m    113\u001b[0m \n\u001b[0;32m    114\u001b[0m \u001b[38;5;124;03m    Example:\u001b[39;00m\n\u001b[1;32m   (...)\u001b[0m\n\u001b[0;32m    117\u001b[0m \u001b[38;5;124;03m    >>> element.click()\u001b[39;00m\n\u001b[0;32m    118\u001b[0m \u001b[38;5;124;03m    \"\"\"\u001b[39;00m\n\u001b[1;32m--> 119\u001b[0m     \u001b[38;5;28;43mself\u001b[39;49m\u001b[38;5;241;43m.\u001b[39;49m\u001b[43m_execute\u001b[49m\u001b[43m(\u001b[49m\u001b[43mCommand\u001b[49m\u001b[38;5;241;43m.\u001b[39;49m\u001b[43mCLICK_ELEMENT\u001b[49m\u001b[43m)\u001b[49m\n",
      "File \u001b[1;32m~\\AppData\\Roaming\\Python\\Python313\\site-packages\\selenium\\webdriver\\remote\\webelement.py:570\u001b[0m, in \u001b[0;36mWebElement._execute\u001b[1;34m(self, command, params)\u001b[0m\n\u001b[0;32m    568\u001b[0m     params \u001b[38;5;241m=\u001b[39m {}\n\u001b[0;32m    569\u001b[0m params[\u001b[38;5;124m\"\u001b[39m\u001b[38;5;124mid\u001b[39m\u001b[38;5;124m\"\u001b[39m] \u001b[38;5;241m=\u001b[39m \u001b[38;5;28mself\u001b[39m\u001b[38;5;241m.\u001b[39m_id\n\u001b[1;32m--> 570\u001b[0m \u001b[38;5;28;01mreturn\u001b[39;00m \u001b[38;5;28;43mself\u001b[39;49m\u001b[38;5;241;43m.\u001b[39;49m\u001b[43m_parent\u001b[49m\u001b[38;5;241;43m.\u001b[39;49m\u001b[43mexecute\u001b[49m\u001b[43m(\u001b[49m\u001b[43mcommand\u001b[49m\u001b[43m,\u001b[49m\u001b[43m \u001b[49m\u001b[43mparams\u001b[49m\u001b[43m)\u001b[49m\n",
      "File \u001b[1;32m~\\AppData\\Roaming\\Python\\Python313\\site-packages\\selenium\\webdriver\\remote\\webdriver.py:429\u001b[0m, in \u001b[0;36mWebDriver.execute\u001b[1;34m(self, driver_command, params)\u001b[0m\n\u001b[0;32m    427\u001b[0m response \u001b[38;5;241m=\u001b[39m \u001b[38;5;28mself\u001b[39m\u001b[38;5;241m.\u001b[39mcommand_executor\u001b[38;5;241m.\u001b[39mexecute(driver_command, params)\n\u001b[0;32m    428\u001b[0m \u001b[38;5;28;01mif\u001b[39;00m response:\n\u001b[1;32m--> 429\u001b[0m     \u001b[38;5;28;43mself\u001b[39;49m\u001b[38;5;241;43m.\u001b[39;49m\u001b[43merror_handler\u001b[49m\u001b[38;5;241;43m.\u001b[39;49m\u001b[43mcheck_response\u001b[49m\u001b[43m(\u001b[49m\u001b[43mresponse\u001b[49m\u001b[43m)\u001b[49m\n\u001b[0;32m    430\u001b[0m     response[\u001b[38;5;124m\"\u001b[39m\u001b[38;5;124mvalue\u001b[39m\u001b[38;5;124m\"\u001b[39m] \u001b[38;5;241m=\u001b[39m \u001b[38;5;28mself\u001b[39m\u001b[38;5;241m.\u001b[39m_unwrap_value(response\u001b[38;5;241m.\u001b[39mget(\u001b[38;5;124m\"\u001b[39m\u001b[38;5;124mvalue\u001b[39m\u001b[38;5;124m\"\u001b[39m, \u001b[38;5;28;01mNone\u001b[39;00m))\n\u001b[0;32m    431\u001b[0m     \u001b[38;5;28;01mreturn\u001b[39;00m response\n",
      "File \u001b[1;32m~\\AppData\\Roaming\\Python\\Python313\\site-packages\\selenium\\webdriver\\remote\\errorhandler.py:232\u001b[0m, in \u001b[0;36mErrorHandler.check_response\u001b[1;34m(self, response)\u001b[0m\n\u001b[0;32m    230\u001b[0m         alert_text \u001b[38;5;241m=\u001b[39m value[\u001b[38;5;124m\"\u001b[39m\u001b[38;5;124malert\u001b[39m\u001b[38;5;124m\"\u001b[39m]\u001b[38;5;241m.\u001b[39mget(\u001b[38;5;124m\"\u001b[39m\u001b[38;5;124mtext\u001b[39m\u001b[38;5;124m\"\u001b[39m)\n\u001b[0;32m    231\u001b[0m     \u001b[38;5;28;01mraise\u001b[39;00m exception_class(message, screen, stacktrace, alert_text)  \u001b[38;5;66;03m# type: ignore[call-arg]  # mypy is not smart enough here\u001b[39;00m\n\u001b[1;32m--> 232\u001b[0m \u001b[38;5;28;01mraise\u001b[39;00m exception_class(message, screen, stacktrace)\n",
      "\u001b[1;31mInvalidSessionIdException\u001b[0m: Message: invalid session id: session deleted as the browser has closed the connection\nfrom disconnected: unable to send message to renderer\n  (Session info: chrome=133.0.6943.126)\nStacktrace:\n\tGetHandleVerifier [0x00007FF6FB5E6EE5+28773]\n\t(No symbol) [0x00007FF6FB5525D0]\n\t(No symbol) [0x00007FF6FB3E8FAA]\n\t(No symbol) [0x00007FF6FB3D53C1]\n\t(No symbol) [0x00007FF6FB3D532C]\n\t(No symbol) [0x00007FF6FB3D3A91]\n\t(No symbol) [0x00007FF6FB3D48E7]\n\t(No symbol) [0x00007FF6FB3F5E25]\n\t(No symbol) [0x00007FF6FB43294C]\n\t(No symbol) [0x00007FF6FB46724A]\n\t(No symbol) [0x00007FF6FB431B36]\n\t(No symbol) [0x00007FF6FB467460]\n\t(No symbol) [0x00007FF6FB48F6F3]\n\t(No symbol) [0x00007FF6FB467023]\n\t(No symbol) [0x00007FF6FB42FF5E]\n\t(No symbol) [0x00007FF6FB4311E3]\n\tGetHandleVerifier [0x00007FF6FB93422D+3490733]\n\tGetHandleVerifier [0x00007FF6FB94BA13+3586963]\n\tGetHandleVerifier [0x00007FF6FB94144D+3544525]\n\tGetHandleVerifier [0x00007FF6FB6AC9AA+838442]\n\t(No symbol) [0x00007FF6FB55D01F]\n\t(No symbol) [0x00007FF6FB5595E4]\n\t(No symbol) [0x00007FF6FB559786]\n\t(No symbol) [0x00007FF6FB548CB9]\n\tBaseThreadInitThunk [0x00007FFB969C259D+29]\n\tRtlUserThreadStart [0x00007FFB989AAF38+40]\n"
     ]
    }
   ],
   "source": [
    "while 1:\n",
    "    bigCookie.click()\n",
    "    cookies_count = driver.find_element(By.ID, \"cookies\").text.split(\" \")[0]\n",
    "    cookies_count = int(cookies_count.replace(\",\", \"\"))\n",
    "\n",
    "    for i in range(4):\n",
    "        product_price = driver.find_element(By.ID, \"productPrice\" + str(i)).text\n",
    "        \n",
    "        if not product_price.isdigit():\n",
    "            continue\n",
    "\n",
    "        product_price = int(product_price.replace(\",\",\"\"))\n",
    "\n",
    "        if cookies_count > product_price:\n",
    "            product = driver.find_element(By.ID, \"product\" + str(i))\n",
    "            product.click()\n",
    "            break\n",
    "    "
   ]
  }
 ],
 "metadata": {
  "kernelspec": {
   "display_name": "Python 3",
   "language": "python",
   "name": "python3"
  },
  "language_info": {
   "codemirror_mode": {
    "name": "ipython",
    "version": 3
   },
   "file_extension": ".py",
   "mimetype": "text/x-python",
   "name": "python",
   "nbconvert_exporter": "python",
   "pygments_lexer": "ipython3",
   "version": "3.13.1"
  }
 },
 "nbformat": 4,
 "nbformat_minor": 2
}
